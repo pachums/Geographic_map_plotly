{
 "cells": [
  {
   "cell_type": "markdown",
   "metadata": {
    "_cell_guid": "b1076dfc-b9ad-4769-8c92-a6c4dae69d19",
    "_uuid": "8f2839f25d086af736a60e9eeb907d3b93b6e0e5",
    "papermill": {
     "duration": 0.011599,
     "end_time": "2021-04-11T09:38:21.021425",
     "exception": false,
     "start_time": "2021-04-11T09:38:21.009826",
     "status": "completed"
    },
    "tags": []
   },
   "source": [
    "## Introduction\n",
    "\n",
    "The purpose of this notebook is to show the backbone of creating a machine learning model. It's nothing advanced, just basic steps to go through during 10 minutes.\n",
    "\n",
    "## 1. Import packages\n",
    "\n",
    "First, we have to import some Python packages. I will use the random forest model, similar to the [Intro to Machine Learning Lesson 6: Random Forests](https://www.youtube.com/watch?v=EE2QmzFI5XM) in Kaggle's video tutorial."
   ]
  },
  {
   "cell_type": "code",
   "execution_count": 1,
   "metadata": {
    "execution": {
     "iopub.execute_input": "2021-04-11T09:38:21.045942Z",
     "iopub.status.busy": "2021-04-11T09:38:21.044901Z",
     "iopub.status.idle": "2021-04-11T09:38:22.294135Z",
     "shell.execute_reply": "2021-04-11T09:38:22.294638Z"
    },
    "papermill": {
     "duration": 1.263239,
     "end_time": "2021-04-11T09:38:22.294949",
     "exception": false,
     "start_time": "2021-04-11T09:38:21.031710",
     "status": "completed"
    },
    "tags": []
   },
   "outputs": [],
   "source": [
    "import pandas as pd                                    # data processing\n",
    "from sklearn.ensemble import RandomForestClassifier    # random forest\n",
    "from sklearn.model_selection import train_test_split   # split train and test dataset\n",
    "from sklearn.metrics import mean_absolute_error        # mean absolute error\n",
    "import matplotlib.pyplot as plt                        # plots\n",
    "import seaborn as sns                                  # plots"
   ]
  },
  {
   "cell_type": "markdown",
   "metadata": {
    "papermill": {
     "duration": 0.011338,
     "end_time": "2021-04-11T09:38:22.318663",
     "exception": false,
     "start_time": "2021-04-11T09:38:22.307325",
     "status": "completed"
    },
    "tags": []
   },
   "source": [
    "## 2. Load and explore data\n",
    "\n",
    "Now we can load and explore the data."
   ]
  },
  {
   "cell_type": "code",
   "execution_count": 4,
   "metadata": {
    "execution": {
     "iopub.execute_input": "2021-04-11T09:38:22.343225Z",
     "iopub.status.busy": "2021-04-11T09:38:22.342605Z",
     "iopub.status.idle": "2021-04-11T09:38:22.396514Z",
     "shell.execute_reply": "2021-04-11T09:38:22.396926Z"
    },
    "papermill": {
     "duration": 0.067641,
     "end_time": "2021-04-11T09:38:22.397132",
     "exception": false,
     "start_time": "2021-04-11T09:38:22.329491",
     "status": "completed"
    },
    "tags": []
   },
   "outputs": [
    {
     "data": {
      "text/html": [
       "<div>\n",
       "<style scoped>\n",
       "    .dataframe tbody tr th:only-of-type {\n",
       "        vertical-align: middle;\n",
       "    }\n",
       "\n",
       "    .dataframe tbody tr th {\n",
       "        vertical-align: top;\n",
       "    }\n",
       "\n",
       "    .dataframe thead th {\n",
       "        text-align: right;\n",
       "    }\n",
       "</style>\n",
       "<table border=\"1\" class=\"dataframe\">\n",
       "  <thead>\n",
       "    <tr style=\"text-align: right;\">\n",
       "      <th></th>\n",
       "      <th>PassengerId</th>\n",
       "      <th>Survived</th>\n",
       "      <th>Pclass</th>\n",
       "      <th>Name</th>\n",
       "      <th>Sex</th>\n",
       "      <th>Age</th>\n",
       "      <th>SibSp</th>\n",
       "      <th>Parch</th>\n",
       "      <th>Ticket</th>\n",
       "      <th>Fare</th>\n",
       "      <th>Cabin</th>\n",
       "      <th>Embarked</th>\n",
       "    </tr>\n",
       "  </thead>\n",
       "  <tbody>\n",
       "    <tr>\n",
       "      <th>0</th>\n",
       "      <td>1</td>\n",
       "      <td>0</td>\n",
       "      <td>3</td>\n",
       "      <td>Braund, Mr. Owen Harris</td>\n",
       "      <td>male</td>\n",
       "      <td>22.0</td>\n",
       "      <td>1</td>\n",
       "      <td>0</td>\n",
       "      <td>A/5 21171</td>\n",
       "      <td>7.2500</td>\n",
       "      <td>NaN</td>\n",
       "      <td>S</td>\n",
       "    </tr>\n",
       "    <tr>\n",
       "      <th>1</th>\n",
       "      <td>2</td>\n",
       "      <td>1</td>\n",
       "      <td>1</td>\n",
       "      <td>Cumings, Mrs. John Bradley (Florence Briggs Th...</td>\n",
       "      <td>female</td>\n",
       "      <td>38.0</td>\n",
       "      <td>1</td>\n",
       "      <td>0</td>\n",
       "      <td>PC 17599</td>\n",
       "      <td>71.2833</td>\n",
       "      <td>C85</td>\n",
       "      <td>C</td>\n",
       "    </tr>\n",
       "    <tr>\n",
       "      <th>2</th>\n",
       "      <td>3</td>\n",
       "      <td>1</td>\n",
       "      <td>3</td>\n",
       "      <td>Heikkinen, Miss. Laina</td>\n",
       "      <td>female</td>\n",
       "      <td>26.0</td>\n",
       "      <td>0</td>\n",
       "      <td>0</td>\n",
       "      <td>STON/O2. 3101282</td>\n",
       "      <td>7.9250</td>\n",
       "      <td>NaN</td>\n",
       "      <td>S</td>\n",
       "    </tr>\n",
       "    <tr>\n",
       "      <th>3</th>\n",
       "      <td>4</td>\n",
       "      <td>1</td>\n",
       "      <td>1</td>\n",
       "      <td>Futrelle, Mrs. Jacques Heath (Lily May Peel)</td>\n",
       "      <td>female</td>\n",
       "      <td>35.0</td>\n",
       "      <td>1</td>\n",
       "      <td>0</td>\n",
       "      <td>113803</td>\n",
       "      <td>53.1000</td>\n",
       "      <td>C123</td>\n",
       "      <td>S</td>\n",
       "    </tr>\n",
       "    <tr>\n",
       "      <th>4</th>\n",
       "      <td>5</td>\n",
       "      <td>0</td>\n",
       "      <td>3</td>\n",
       "      <td>Allen, Mr. William Henry</td>\n",
       "      <td>male</td>\n",
       "      <td>35.0</td>\n",
       "      <td>0</td>\n",
       "      <td>0</td>\n",
       "      <td>373450</td>\n",
       "      <td>8.0500</td>\n",
       "      <td>NaN</td>\n",
       "      <td>S</td>\n",
       "    </tr>\n",
       "  </tbody>\n",
       "</table>\n",
       "</div>"
      ],
      "text/plain": [
       "   PassengerId  Survived  Pclass  \\\n",
       "0            1         0       3   \n",
       "1            2         1       1   \n",
       "2            3         1       3   \n",
       "3            4         1       1   \n",
       "4            5         0       3   \n",
       "\n",
       "                                                Name     Sex   Age  SibSp  \\\n",
       "0                            Braund, Mr. Owen Harris    male  22.0      1   \n",
       "1  Cumings, Mrs. John Bradley (Florence Briggs Th...  female  38.0      1   \n",
       "2                             Heikkinen, Miss. Laina  female  26.0      0   \n",
       "3       Futrelle, Mrs. Jacques Heath (Lily May Peel)  female  35.0      1   \n",
       "4                           Allen, Mr. William Henry    male  35.0      0   \n",
       "\n",
       "   Parch            Ticket     Fare Cabin Embarked  \n",
       "0      0         A/5 21171   7.2500   NaN        S  \n",
       "1      0          PC 17599  71.2833   C85        C  \n",
       "2      0  STON/O2. 3101282   7.9250   NaN        S  \n",
       "3      0            113803  53.1000  C123        S  \n",
       "4      0            373450   8.0500   NaN        S  "
      ]
     },
     "execution_count": 4,
     "metadata": {},
     "output_type": "execute_result"
    }
   ],
   "source": [
    "# load data\n",
    "train = pd.read_csv(\"Data/train.csv\") # train data\n",
    "test = pd.read_csv(\"Data/test.csv\")   # test data\n",
    "\n",
    "# explore the structure\n",
    "train.head()"
   ]
  },
  {
   "cell_type": "markdown",
   "metadata": {
    "papermill": {
     "duration": 0.010293,
     "end_time": "2021-04-11T09:38:22.418998",
     "exception": false,
     "start_time": "2021-04-11T09:38:22.408705",
     "status": "completed"
    },
    "tags": []
   },
   "source": [
    "Here we see the basic structure of the dataset.\n",
    "\n",
    "We can also quickly explore the number of missing values in both datasets. I do that by running `train.isna().sum()` and `test.isna().sum()`, but for short overview I like this command:"
   ]
  },
  {
   "cell_type": "code",
   "execution_count": 7,
   "metadata": {
    "execution": {
     "iopub.execute_input": "2021-04-11T09:38:22.443664Z",
     "iopub.status.busy": "2021-04-11T09:38:22.443123Z",
     "iopub.status.idle": "2021-04-11T09:38:22.464905Z",
     "shell.execute_reply": "2021-04-11T09:38:22.464325Z"
    },
    "papermill": {
     "duration": 0.035247,
     "end_time": "2021-04-11T09:38:22.465049",
     "exception": false,
     "start_time": "2021-04-11T09:38:22.429802",
     "status": "completed"
    },
    "tags": []
   },
   "outputs": [
    {
     "data": {
      "text/html": [
       "<div>\n",
       "<style scoped>\n",
       "    .dataframe tbody tr th:only-of-type {\n",
       "        vertical-align: middle;\n",
       "    }\n",
       "\n",
       "    .dataframe tbody tr th {\n",
       "        vertical-align: top;\n",
       "    }\n",
       "\n",
       "    .dataframe thead th {\n",
       "        text-align: right;\n",
       "    }\n",
       "</style>\n",
       "<table border=\"1\" class=\"dataframe\">\n",
       "  <thead>\n",
       "    <tr style=\"text-align: right;\">\n",
       "      <th></th>\n",
       "      <th>PassengerId</th>\n",
       "      <th>Survived</th>\n",
       "      <th>Pclass</th>\n",
       "      <th>Name</th>\n",
       "      <th>Sex</th>\n",
       "      <th>Age</th>\n",
       "      <th>SibSp</th>\n",
       "      <th>Parch</th>\n",
       "      <th>Ticket</th>\n",
       "      <th>Fare</th>\n",
       "      <th>Cabin</th>\n",
       "      <th>Embarked</th>\n",
       "    </tr>\n",
       "  </thead>\n",
       "  <tbody>\n",
       "    <tr>\n",
       "      <th>0</th>\n",
       "      <td>0.0</td>\n",
       "      <td>0.0</td>\n",
       "      <td>0.0</td>\n",
       "      <td>0.0</td>\n",
       "      <td>0.0</td>\n",
       "      <td>177.0</td>\n",
       "      <td>0.0</td>\n",
       "      <td>0.0</td>\n",
       "      <td>0.0</td>\n",
       "      <td>0.0</td>\n",
       "      <td>687.0</td>\n",
       "      <td>2.0</td>\n",
       "    </tr>\n",
       "    <tr>\n",
       "      <th>1</th>\n",
       "      <td>0.0</td>\n",
       "      <td>NaN</td>\n",
       "      <td>0.0</td>\n",
       "      <td>0.0</td>\n",
       "      <td>0.0</td>\n",
       "      <td>86.0</td>\n",
       "      <td>0.0</td>\n",
       "      <td>0.0</td>\n",
       "      <td>0.0</td>\n",
       "      <td>1.0</td>\n",
       "      <td>327.0</td>\n",
       "      <td>0.0</td>\n",
       "    </tr>\n",
       "  </tbody>\n",
       "</table>\n",
       "</div>"
      ],
      "text/plain": [
       "   PassengerId  Survived  Pclass  Name  Sex    Age  SibSp  Parch  Ticket  \\\n",
       "0          0.0       0.0     0.0   0.0  0.0  177.0    0.0    0.0     0.0   \n",
       "1          0.0       NaN     0.0   0.0  0.0   86.0    0.0    0.0     0.0   \n",
       "\n",
       "   Fare  Cabin  Embarked  \n",
       "0   0.0  687.0       2.0  \n",
       "1   1.0  327.0       0.0  "
      ]
     },
     "execution_count": 7,
     "metadata": {},
     "output_type": "execute_result"
    }
   ],
   "source": [
    "# explore missing values\n",
    "pd.concat([train.isna().sum(), test.isna().sum()], axis = 1).T"
   ]
  },
  {
   "cell_type": "markdown",
   "metadata": {
    "papermill": {
     "duration": 0.011882,
     "end_time": "2021-04-11T09:38:22.489093",
     "exception": false,
     "start_time": "2021-04-11T09:38:22.477211",
     "status": "completed"
    },
    "tags": []
   },
   "source": [
    "I would like to visualize the cerrelation between pairs of features to see, which feature has the impact for survival. Lower absolute value ~ lower impact (and more green/orange ~ higher impact). See the _Survived_ row below: _PClass_ seems to have the most negative impact od survival (-0.34), _Fare_ seems to have the most positive impact on survival (+0.26). Note that this is only a simplistic explanation&hellip;"
   ]
  },
  {
   "cell_type": "code",
   "execution_count": 8,
   "metadata": {
    "execution": {
     "iopub.execute_input": "2021-04-11T09:38:22.535245Z",
     "iopub.status.busy": "2021-04-11T09:38:22.534545Z",
     "iopub.status.idle": "2021-04-11T09:38:22.999623Z",
     "shell.execute_reply": "2021-04-11T09:38:23.000180Z"
    },
    "papermill": {
     "duration": 0.498965,
     "end_time": "2021-04-11T09:38:23.000338",
     "exception": false,
     "start_time": "2021-04-11T09:38:22.501373",
     "status": "completed"
    },
    "tags": []
   },
   "outputs": [
    {
     "data": {
      "text/plain": [
       "<AxesSubplot:>"
      ]
     },
     "execution_count": 8,
     "metadata": {},
     "output_type": "execute_result"
    },
    {
     "data": {
      "image/png": "[encoded data removed]",
      "text/plain": [
       "<Figure size 720x720 with 2 Axes>"
      ]
     },
     "metadata": {
      "needs_background": "light"
     },
     "output_type": "display_data"
    }
   ],
   "source": [
    "# some correlation heatmap\n",
    "plt.subplots(figsize=(10, 10))\n",
    "sns.heatmap(train.corr(), square = True, annot = True, fmt = \".2f\", center = 0, cmap = \"RdYlGn\")"
   ]
  },
  {
   "cell_type": "markdown",
   "metadata": {
    "papermill": {
     "duration": 0.013523,
     "end_time": "2021-04-11T09:38:23.028092",
     "exception": false,
     "start_time": "2021-04-11T09:38:23.014569",
     "status": "completed"
    },
    "tags": []
   },
   "source": [
    "## 3. Prepare datasets\n",
    "\n",
    "We'll do our model on only _a part of training dataset_ first. Then we'll validate various configurations to pick the best one.\n",
    "\n",
    "Only after that we'll fit a model on _all_ training data and make a prediction for the test dataset."
   ]
  },
  {
   "cell_type": "code",
   "execution_count": 22,
   "metadata": {
    "execution": {
     "iopub.execute_input": "2021-04-11T09:38:23.059077Z",
     "iopub.status.busy": "2021-04-11T09:38:23.058433Z",
     "iopub.status.idle": "2021-04-11T09:38:23.087234Z",
     "shell.execute_reply": "2021-04-11T09:38:23.086721Z"
    },
    "papermill": {
     "duration": 0.045273,
     "end_time": "2021-04-11T09:38:23.087364",
     "exception": false,
     "start_time": "2021-04-11T09:38:23.042091",
     "status": "completed"
    },
    "tags": []
   },
   "outputs": [],
   "source": [
    "# choose the target variable (survived or not?)\n",
    "target = train[\"Survived\"]\n",
    "\n",
    "# choose some random features\n",
    "# - in fact, drop only PassengerId and Age columns as these seem to have the lowest correlation\n",
    "#   with Survived feature (see the heatmap above)\n",
    "# - it would be better to explore them thouroughly first, but it's out of scope\n",
    "#   for this tutorial\n",
    "features = [\"Pclass\", \"Sex\", \"Age\", \"Parch\", \"Fare\"]\n",
    "\n",
    "# process the datasets:\n",
    "# pd.get_dummies()  converts categorical variables into dummy variables\n",
    "# .fillna()         replaces NAs with median of particular column\n",
    "train_data = pd.get_dummies(train[features].fillna(train.median()))\n",
    "test_data = pd.get_dummies(test[features].fillna(train.median()))\n",
    "\n",
    "# split train and validation datasets from the training data;\n",
    "# this is useful since I want to validate the model first\n",
    "train_X, val_X, train_y, val_y = train_test_split(train_data, target, random_state = 1)"
   ]
  },
  {
   "cell_type": "markdown",
   "metadata": {
    "papermill": {
     "duration": 0.013784,
     "end_time": "2021-04-11T09:38:23.115386",
     "exception": false,
     "start_time": "2021-04-11T09:38:23.101602",
     "status": "completed"
    },
    "tags": []
   },
   "source": [
    "Now we have\n",
    "\n",
    "* `train_X` and `train_y` for fitting first model\n",
    "* `val_X` and `val_y` for validating a model\n",
    "* `train_data` and `target` for fitting final model\n",
    "* `test_data` for final predictions\n",
    "\n",
    "## 4. Model\n",
    "\n",
    "First, evaluate some possible configurations in models."
   ]
  },
  {
   "cell_type": "code",
   "execution_count": 23,
   "metadata": {
    "execution": {
     "iopub.execute_input": "2021-04-11T09:38:23.150346Z",
     "iopub.status.busy": "2021-04-11T09:38:23.149796Z",
     "iopub.status.idle": "2021-04-11T09:38:23.151931Z",
     "shell.execute_reply": "2021-04-11T09:38:23.152442Z"
    },
    "papermill": {
     "duration": 0.022205,
     "end_time": "2021-04-11T09:38:23.152597",
     "exception": false,
     "start_time": "2021-04-11T09:38:23.130392",
     "status": "completed"
    },
    "tags": []
   },
   "outputs": [],
   "source": [
    "# helper function that estimates the minimal absolute error (MAE) of a model\n",
    "def evaluate_model(n_estimators, max_depth):\n",
    "    \"\"\"\n",
    "    Evaluate the random forest model on validation data.\n",
    "    \n",
    "    Parameters:\n",
    "        n_estimators (int): The number of trees in the forest.\n",
    "        max_depth (int): The maximum depth of the tree.\n",
    "  \n",
    "    Returns:\n",
    "        float: mean absolute error of the random forest model\n",
    "    \"\"\"\n",
    "    # use global data portions\n",
    "    global train_X, train_y, val_X, val_y\n",
    "    # create model\n",
    "    model = RandomForestClassifier(n_estimators = n_estimators,\n",
    "                                   max_depth = max_depth,\n",
    "                                   random_state = 1)\n",
    "    # fit model\n",
    "    model.fit(train_X, train_y)\n",
    "    # predict\n",
    "    val_predictions = model.predict(val_X)\n",
    "    # return mean absolute error of that model\n",
    "    return mean_absolute_error(val_y, val_predictions)"
   ]
  },
  {
   "cell_type": "markdown",
   "metadata": {
    "papermill": {
     "duration": 0.013864,
     "end_time": "2021-04-11T09:38:23.180530",
     "exception": false,
     "start_time": "2021-04-11T09:38:23.166666",
     "status": "completed"
    },
    "tags": []
   },
   "source": [
    "Now we choose a final model with the best configuration (i.e. the smallest mean absolute error).\n"
   ]
  },
  {
   "cell_type": "code",
   "execution_count": 28,
   "metadata": {
    "execution": {
     "iopub.execute_input": "2021-04-11T09:38:23.211200Z",
     "iopub.status.busy": "2021-04-11T09:38:23.210544Z",
     "iopub.status.idle": "2021-04-11T09:38:24.337959Z",
     "shell.execute_reply": "2021-04-11T09:38:24.337452Z"
    },
    "papermill": {
     "duration": 1.143665,
     "end_time": "2021-04-11T09:38:24.338107",
     "exception": false,
     "start_time": "2021-04-11T09:38:23.194442",
     "status": "completed"
    },
    "tags": []
   },
   "outputs": [
    {
     "name": "stdout",
     "output_type": "stream",
     "text": [
      "n_est\tmax_dp\tmean absolute error\n",
      "20\t5\t0.197\n",
      "20\t10\t0.179\n",
      "20\t20\t0.22\n",
      "50\t5\t0.197\n",
      "50\t10\t0.206\n",
      "50\t20\t0.229\n",
      "100\t5\t0.206\n",
      "100\t10\t0.211\n",
      "100\t20\t0.215\n",
      "Found minimal MAE 0.179 with n_est 20 and max_dp 10\n"
     ]
    }
   ],
   "source": [
    "# find the best configuration for n_estimators and max_depth in random forest\n",
    "# (looking for the lowest minimal absolute error MAE)\n",
    "min_n_est = min_max_dp = min_mae = 0\n",
    "\n",
    "print(\"n_est\", \"max_dp\", \"mean absolute error\", sep = \"\\t\")\n",
    "for n_estimators in [20, 50, 100]:\n",
    "    for max_depth in [5, 10, 20]:\n",
    "        \n",
    "        eval_mae = round(evaluate_model(n_estimators, max_depth), 3)\n",
    "        if min_mae == 0 or eval_mae < min_mae:   # if we found a lower MAE, store that for final model\n",
    "            min_n_est = n_estimators; min_max_dp = max_depth; min_mae = eval_mae\n",
    "        print(n_estimators, max_depth, eval_mae, sep = \"\\t\")\n",
    "        \n",
    "print(\"Found minimal MAE\", min_mae, \"with n_est\", min_n_est, \"and max_dp\", min_max_dp)"
   ]
  },
  {
   "cell_type": "markdown",
   "metadata": {
    "papermill": {
     "duration": 0.01545,
     "end_time": "2021-04-11T09:38:24.369698",
     "exception": false,
     "start_time": "2021-04-11T09:38:24.354248",
     "status": "completed"
    },
    "tags": []
   },
   "source": [
    "Here we can fit a model on complete train dataset (i.e. `train_data` and `target`)."
   ]
  },
  {
   "cell_type": "code",
   "execution_count": 25,
   "metadata": {
    "execution": {
     "iopub.execute_input": "2021-04-11T09:38:24.408242Z",
     "iopub.status.busy": "2021-04-11T09:38:24.407398Z",
     "iopub.status.idle": "2021-04-11T09:38:24.459208Z",
     "shell.execute_reply": "2021-04-11T09:38:24.458608Z"
    },
    "papermill": {
     "duration": 0.0736,
     "end_time": "2021-04-11T09:38:24.459347",
     "exception": false,
     "start_time": "2021-04-11T09:38:24.385747",
     "status": "completed"
    },
    "tags": []
   },
   "outputs": [],
   "source": [
    "# 1. create model\n",
    "model = RandomForestClassifier(n_estimators = min_n_est,\n",
    "                               max_depth = min_max_dp,\n",
    "                               random_state = 1)\n",
    "\n",
    "# 2. fit model\n",
    "model.fit(train_data, target)\n",
    "\n",
    "# 3. predict\n",
    "predictions = model.predict(test_data)"
   ]
  },
  {
   "cell_type": "markdown",
   "metadata": {
    "papermill": {
     "duration": 0.014908,
     "end_time": "2021-04-11T09:38:24.489764",
     "exception": false,
     "start_time": "2021-04-11T09:38:24.474856",
     "status": "completed"
    },
    "tags": []
   },
   "source": [
    "## 5. Output and submission\n",
    "\n",
    "That's all, we can save the predictions and submit to the competition."
   ]
  },
  {
   "cell_type": "code",
   "execution_count": 26,
   "metadata": {
    "execution": {
     "iopub.execute_input": "2021-04-11T09:38:24.526660Z",
     "iopub.status.busy": "2021-04-11T09:38:24.526120Z",
     "iopub.status.idle": "2021-04-11T09:38:24.532100Z",
     "shell.execute_reply": "2021-04-11T09:38:24.531524Z"
    },
    "papermill": {
     "duration": 0.026731,
     "end_time": "2021-04-11T09:38:24.532232",
     "exception": false,
     "start_time": "2021-04-11T09:38:24.505501",
     "status": "completed"
    },
    "tags": []
   },
   "outputs": [],
   "source": [
    "output = pd.DataFrame({\"PassengerId\": test.PassengerId,\n",
    "                       \"Survived\": predictions})\n",
    "output.to_csv(\"submission.csv\", index = False)"
   ]
  },
  {
   "cell_type": "code",
   "execution_count": 32,
   "metadata": {},
   "outputs": [
    {
     "data": {
      "text/html": [
       "<div>\n",
       "<style scoped>\n",
       "    .dataframe tbody tr th:only-of-type {\n",
       "        vertical-align: middle;\n",
       "    }\n",
       "\n",
       "    .dataframe tbody tr th {\n",
       "        vertical-align: top;\n",
       "    }\n",
       "\n",
       "    .dataframe thead th {\n",
       "        text-align: right;\n",
       "    }\n",
       "</style>\n",
       "<table border=\"1\" class=\"dataframe\">\n",
       "  <thead>\n",
       "    <tr style=\"text-align: right;\">\n",
       "      <th></th>\n",
       "      <th>PassengerId</th>\n",
       "      <th>Survived</th>\n",
       "    </tr>\n",
       "  </thead>\n",
       "  <tbody>\n",
       "    <tr>\n",
       "      <th>0</th>\n",
       "      <td>892</td>\n",
       "      <td>0</td>\n",
       "    </tr>\n",
       "    <tr>\n",
       "      <th>1</th>\n",
       "      <td>893</td>\n",
       "      <td>0</td>\n",
       "    </tr>\n",
       "    <tr>\n",
       "      <th>2</th>\n",
       "      <td>894</td>\n",
       "      <td>1</td>\n",
       "    </tr>\n",
       "    <tr>\n",
       "      <th>3</th>\n",
       "      <td>895</td>\n",
       "      <td>0</td>\n",
       "    </tr>\n",
       "    <tr>\n",
       "      <th>4</th>\n",
       "      <td>896</td>\n",
       "      <td>1</td>\n",
       "    </tr>\n",
       "    <tr>\n",
       "      <th>...</th>\n",
       "      <td>...</td>\n",
       "      <td>...</td>\n",
       "    </tr>\n",
       "    <tr>\n",
       "      <th>413</th>\n",
       "      <td>1305</td>\n",
       "      <td>0</td>\n",
       "    </tr>\n",
       "    <tr>\n",
       "      <th>414</th>\n",
       "      <td>1306</td>\n",
       "      <td>1</td>\n",
       "    </tr>\n",
       "    <tr>\n",
       "      <th>415</th>\n",
       "      <td>1307</td>\n",
       "      <td>0</td>\n",
       "    </tr>\n",
       "    <tr>\n",
       "      <th>416</th>\n",
       "      <td>1308</td>\n",
       "      <td>0</td>\n",
       "    </tr>\n",
       "    <tr>\n",
       "      <th>417</th>\n",
       "      <td>1309</td>\n",
       "      <td>0</td>\n",
       "    </tr>\n",
       "  </tbody>\n",
       "</table>\n",
       "<p>418 rows × 2 columns</p>\n",
       "</div>"
      ],
      "text/plain": [
       "     PassengerId  Survived\n",
       "0            892         0\n",
       "1            893         0\n",
       "2            894         1\n",
       "3            895         0\n",
       "4            896         1\n",
       "..           ...       ...\n",
       "413         1305         0\n",
       "414         1306         1\n",
       "415         1307         0\n",
       "416         1308         0\n",
       "417         1309         0\n",
       "\n",
       "[418 rows x 2 columns]"
      ]
     },
     "execution_count": 32,
     "metadata": {},
     "output_type": "execute_result"
    }
   ],
   "source": [
    "output"
   ]
  }
 ],
 "metadata": {
  "kernelspec": {
   "display_name": "Python 3",
   "language": "python",
   "name": "python3"
  },
  "language_info": {
   "codemirror_mode": {
    "name": "ipython",
    "version": 3
   },
   "file_extension": ".py",
   "mimetype": "text/x-python",
   "name": "python",
   "nbconvert_exporter": "python",
   "pygments_lexer": "ipython3",
   "version": "3.8.5"
  },
  "papermill": {
   "default_parameters": {},
   "duration": 10.676545,
   "end_time": "2021-04-11T09:38:26.131240",
   "environment_variables": {},
   "exception": null,
   "input_path": "__notebook__.ipynb",
   "output_path": "__notebook__.ipynb",
   "parameters": {},
   "start_time": "2021-04-11T09:38:15.454695",
   "version": "2.3.2"
  }
 },
 "nbformat": 4,
 "nbformat_minor": 5
}
