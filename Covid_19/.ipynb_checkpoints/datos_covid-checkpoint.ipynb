{
 "cells": [
  {
   "cell_type": "markdown",
   "metadata": {},
   "source": [
    "# Preprocesado datos COVID-19"
   ]
  },
  {
   "cell_type": "code",
   "execution_count": 1,
   "metadata": {},
   "outputs": [],
   "source": [
    "import numpy as np\n",
    "import pandas as pd\n",
    "import wget\n",
    "import os"
   ]
  },
  {
   "cell_type": "code",
   "execution_count": 2,
   "metadata": {},
   "outputs": [
    {
     "name": "stdout",
     "output_type": "stream",
     "text": [
      " 83% [............................................................            ] 29171712 / 34791261"
     ]
    },
    {
     "ename": "ContentTooShortError",
     "evalue": "<urlopen error retrieval incomplete: got only 29168780 out of 34791261 bytes>",
     "output_type": "error",
     "traceback": [
      "\u001b[1;31m---------------------------------------------------------------------------\u001b[0m",
      "\u001b[1;31mContentTooShortError\u001b[0m                      Traceback (most recent call last)",
      "\u001b[1;32m<ipython-input-2-e628ffafd626>\u001b[0m in \u001b[0;36m<module>\u001b[1;34m\u001b[0m\n\u001b[0;32m      6\u001b[0m        \u001b[0mos\u001b[0m\u001b[1;33m.\u001b[0m\u001b[0mremove\u001b[0m\u001b[1;33m(\u001b[0m\u001b[0mname\u001b[0m\u001b[1;33m)\u001b[0m\u001b[1;33m\u001b[0m\u001b[1;33m\u001b[0m\u001b[0m\n\u001b[0;32m      7\u001b[0m \u001b[1;33m\u001b[0m\u001b[0m\n\u001b[1;32m----> 8\u001b[1;33m \u001b[0mwget\u001b[0m\u001b[1;33m.\u001b[0m\u001b[0mdownload\u001b[0m\u001b[1;33m(\u001b[0m\u001b[0murlfile\u001b[0m\u001b[1;33m,\u001b[0m \u001b[0mname\u001b[0m\u001b[1;33m)\u001b[0m\u001b[1;33m\u001b[0m\u001b[1;33m\u001b[0m\u001b[0m\n\u001b[0m",
      "\u001b[1;32m~\\anaconda3\\lib\\site-packages\\wget.py\u001b[0m in \u001b[0;36mdownload\u001b[1;34m(url, out, bar)\u001b[0m\n\u001b[0;32m    524\u001b[0m     \u001b[1;32melse\u001b[0m\u001b[1;33m:\u001b[0m\u001b[1;33m\u001b[0m\u001b[1;33m\u001b[0m\u001b[0m\n\u001b[0;32m    525\u001b[0m         \u001b[0mbinurl\u001b[0m \u001b[1;33m=\u001b[0m \u001b[0murl\u001b[0m\u001b[1;33m\u001b[0m\u001b[1;33m\u001b[0m\u001b[0m\n\u001b[1;32m--> 526\u001b[1;33m     \u001b[1;33m(\u001b[0m\u001b[0mtmpfile\u001b[0m\u001b[1;33m,\u001b[0m \u001b[0mheaders\u001b[0m\u001b[1;33m)\u001b[0m \u001b[1;33m=\u001b[0m \u001b[0mulib\u001b[0m\u001b[1;33m.\u001b[0m\u001b[0murlretrieve\u001b[0m\u001b[1;33m(\u001b[0m\u001b[0mbinurl\u001b[0m\u001b[1;33m,\u001b[0m \u001b[0mtmpfile\u001b[0m\u001b[1;33m,\u001b[0m \u001b[0mcallback\u001b[0m\u001b[1;33m)\u001b[0m\u001b[1;33m\u001b[0m\u001b[1;33m\u001b[0m\u001b[0m\n\u001b[0m\u001b[0;32m    527\u001b[0m     \u001b[0mfilename\u001b[0m \u001b[1;33m=\u001b[0m \u001b[0mdetect_filename\u001b[0m\u001b[1;33m(\u001b[0m\u001b[0murl\u001b[0m\u001b[1;33m,\u001b[0m \u001b[0mout\u001b[0m\u001b[1;33m,\u001b[0m \u001b[0mheaders\u001b[0m\u001b[1;33m)\u001b[0m\u001b[1;33m\u001b[0m\u001b[1;33m\u001b[0m\u001b[0m\n\u001b[0;32m    528\u001b[0m     \u001b[1;32mif\u001b[0m \u001b[0moutdir\u001b[0m\u001b[1;33m:\u001b[0m\u001b[1;33m\u001b[0m\u001b[1;33m\u001b[0m\u001b[0m\n",
      "\u001b[1;32m~\\anaconda3\\lib\\urllib\\request.py\u001b[0m in \u001b[0;36murlretrieve\u001b[1;34m(url, filename, reporthook, data)\u001b[0m\n\u001b[0;32m    284\u001b[0m \u001b[1;33m\u001b[0m\u001b[0m\n\u001b[0;32m    285\u001b[0m     \u001b[1;32mif\u001b[0m \u001b[0msize\u001b[0m \u001b[1;33m>=\u001b[0m \u001b[1;36m0\u001b[0m \u001b[1;32mand\u001b[0m \u001b[0mread\u001b[0m \u001b[1;33m<\u001b[0m \u001b[0msize\u001b[0m\u001b[1;33m:\u001b[0m\u001b[1;33m\u001b[0m\u001b[1;33m\u001b[0m\u001b[0m\n\u001b[1;32m--> 286\u001b[1;33m         raise ContentTooShortError(\n\u001b[0m\u001b[0;32m    287\u001b[0m             \u001b[1;34m\"retrieval incomplete: got only %i out of %i bytes\"\u001b[0m\u001b[1;33m\u001b[0m\u001b[1;33m\u001b[0m\u001b[0m\n\u001b[0;32m    288\u001b[0m             % (read, size), result)\n",
      "\u001b[1;31mContentTooShortError\u001b[0m: <urlopen error retrieval incomplete: got only 29168780 out of 34791261 bytes>"
     ]
    }
   ],
   "source": [
    " # datos del Centro Nacional de Epidemiología\n",
    "urlfile = \"https://cnecovid.isciii.es/covid19/resources/casos_hosp_uci_def_sexo_edad_provres.csv\"\n",
    "name = os.getcwd() + \"\\\\datos\\\\datos_covid_originales.csv\"\n",
    "\n",
    "if os.path.exists(name):\n",
    "        os.remove(name)\n",
    "        \n",
    "wget.download(urlfile, name)"
   ]
  },
  {
   "cell_type": "markdown",
   "metadata": {},
   "source": [
    "### datos_covid_tratados"
   ]
  },
  {
   "cell_type": "code",
   "execution_count": null,
   "metadata": {},
   "outputs": [],
   "source": [
    "datos_covid = pd.read_csv(\"datos/datos_covid_originales.csv\")\n",
    "datos_covid.tail(5)"
   ]
  },
  {
   "cell_type": "markdown",
   "metadata": {},
   "source": [
    "El archivo provincias_iso relaciona el nombre de cada provincia con su codigo iso"
   ]
  },
  {
   "cell_type": "code",
   "execution_count": null,
   "metadata": {},
   "outputs": [],
   "source": [
    "codigo_iso = pd.read_csv(\"datos/provincias_iso.csv\", sep=\";\")\n",
    "codigo_iso['codigo_iso']=codigo_iso['codigo_iso'].apply(lambda x: x.split(\"-\")[1])\n",
    "\n",
    "codigo_prov = pd.read_csv(\"datos/cod_prov.csv\", sep=\";\")\n",
    "codigo_prov = codigo_prov.merge(codigo_iso, on=\"nombre_provincia\", how=\"left\")\n",
    "codigo_prov = codigo_prov.rename(columns={'codigo_iso':'provincia_iso','CODIGO':'cpro'})\n",
    "\n",
    "codigo_ccaa = pd.read_csv(\"datos/cod_ccaa.csv\", sep=\";\")\n",
    "codigo_ccaa = codigo_ccaa.rename(columns={'CPRO':'cpro'})\n",
    "codigo_ccaa = codigo_ccaa.merge(codigo_prov, on= 'cpro')\n",
    "codigo_ccaa = codigo_ccaa.rename(columns={'CODAUTO':'codauto',\n",
    "                                          'Comunidad Autónoma':'ccaa',\n",
    "                                          'Provincia':'provincia'})[['codauto','cpro','ccaa','provincia','provincia_iso']]\n",
    "codigo_ccaa.head(5)"
   ]
  },
  {
   "cell_type": "markdown",
   "metadata": {},
   "source": [
    "Obtenemos la población total de cada provincia,  nos quedamos con el codigo y la población total"
   ]
  },
  {
   "cell_type": "code",
   "execution_count": null,
   "metadata": {},
   "outputs": [],
   "source": [
    "poblacion_total = pd.read_csv(\"datos/poblacion_total_provincias.csv\", sep=\";\")\n",
    "poblacion_total['Provincias'] = poblacion_total['Provincias'].apply(lambda x:x[:2])\n",
    "poblacion_total = poblacion_total.drop(columns=['Sexo'])\n",
    "poblacion_total = poblacion_total.rename(columns={'Provincias':'cpro', 'Total':'poblacion_total'})\n",
    "poblacion_total.head(5)"
   ]
  },
  {
   "cell_type": "markdown",
   "metadata": {},
   "source": [
    "Unimos los datos de las CCAA con los datos del covid."
   ]
  },
  {
   "cell_type": "code",
   "execution_count": null,
   "metadata": {},
   "outputs": [],
   "source": [
    "datos = datos_covid.merge(codigo_ccaa, on='provincia_iso')\n",
    "datos['sexo']=datos['sexo'].apply(lambda x: \"Hombres\" if x==\"H\" else \n",
    "                                            \"Mujeres\" if x==\"M\" else \"NC\")\n",
    "datos = datos[['fecha','codauto','cpro','ccaa','provincia','sexo','grupo_edad','num_casos','num_hosp','num_uci','num_def']]\n",
    "\n",
    "\n",
    "datos.head(3)"
   ]
  },
  {
   "cell_type": "code",
   "execution_count": null,
   "metadata": {},
   "outputs": [],
   "source": [
    "datos['fecha'] = pd.to_datetime(datos['fecha'])\n",
    "datos['semana'] = datos['fecha'].apply(lambda x: x.week if x< pd.to_datetime('2021-01-04') else x.week+53)"
   ]
  },
  {
   "cell_type": "code",
   "execution_count": null,
   "metadata": {},
   "outputs": [],
   "source": [
    "datos.to_csv('datos/datos_covid_tratados.csv', index=False)"
   ]
  },
  {
   "cell_type": "markdown",
   "metadata": {},
   "source": [
    "### poblacion_edad_sexo"
   ]
  },
  {
   "cell_type": "code",
   "execution_count": null,
   "metadata": {},
   "outputs": [],
   "source": [
    "poblacion_edad_sexo = pd.read_csv(\"datos/poblacion_sexo_edad_provincias.csv\", sep=\";\")\n",
    "\n",
    "poblacion_edad_sexo.rename(columns={'provincias':'cpro'}, inplace=True)\n",
    "poblacion_edad_sexo['cpro']=poblacion_edad_sexo['cpro'].apply(lambda x: x[0:2])\n",
    "poblacion_edad_sexo['grupo_edad']=poblacion_edad_sexo['grupo_edad'].str.strip().apply(lambda x: \n",
    "                                     \"0-9\" if (x==\"De 0 a 4 años\" or x==\"De 5 a 9 años\") else \n",
    "                                     \"10-19\" if (x==\"De 10 a 14 años\" or x==\"De 15 a 19 años\") else\n",
    "                                     \"20-29\" if (x==\"De 20 a 24 años\" or x==\"De 25 a 29 años\") else\n",
    "                                     \"30-39\" if (x==\"De 30 a 34 años\" or x==\"De 35 a 39 años\") else                              \n",
    "                                     \"40-49\" if (x==\"De 40 a 44 años\" or x==\"De 45 a 49 años\") else                              \n",
    "                                     \"50-59\" if (x==\"De 50 a 54 años\" or x==\"De 55 a 59 años\") else\n",
    "                                     \"60-69\" if (x==\"De 60 a 64 años\" or x==\"De 65 a 69 años\") else\n",
    "                                     \"70-79\" if (x==\"De 70 a 74 años\" or x==\"De 75 a 79 años\") else \"80+\")\n",
    "\n",
    "poblacion_edad_sexo = poblacion_edad_sexo.groupby(['cpro','sexo','grupo_edad'])['poblacion_total'].agg('sum').reset_index()\n",
    "poblacion_edad_sexo = poblacion_edad_sexo[['sexo','cpro','grupo_edad','poblacion_total']]\n",
    "\n",
    "poblacion_edad_sexo.head(5)"
   ]
  },
  {
   "cell_type": "code",
   "execution_count": null,
   "metadata": {},
   "outputs": [],
   "source": [
    "datos_total = poblacion_edad_sexo.groupby(['cpro','sexo']).agg('sum').rename(columns={'poblacion_total':'poblacion_agregada'})\n",
    "datos_total.head(4)"
   ]
  },
  {
   "cell_type": "code",
   "execution_count": null,
   "metadata": {},
   "outputs": [],
   "source": [
    "poblacion_edad_sexo = poblacion_edad_sexo.merge(datos_total, on=['cpro','sexo'], how='left')\n",
    "poblacion_edad_sexo = poblacion_edad_sexo.assign(porcentaje = lambda x: \n",
    "                           poblacion_edad_sexo['poblacion_total']/poblacion_edad_sexo['poblacion_agregada']*100) "
   ]
  },
  {
   "cell_type": "code",
   "execution_count": null,
   "metadata": {},
   "outputs": [],
   "source": [
    "poblacion_edad_sexo['cpro']=poblacion_edad_sexo['cpro'].astype(int) # necesario para futuros merge\n",
    "\n",
    "poblacion_edad_sexo.head()"
   ]
  },
  {
   "cell_type": "code",
   "execution_count": null,
   "metadata": {},
   "outputs": [],
   "source": [
    "poblacion_edad_sexo.to_csv('datos/poblacion_edad_sexo.csv', index=False)"
   ]
  },
  {
   "cell_type": "markdown",
   "metadata": {},
   "source": [
    "### datos_poblacion_sexos"
   ]
  },
  {
   "cell_type": "code",
   "execution_count": null,
   "metadata": {},
   "outputs": [],
   "source": [
    "datos_poblacion_sexos = datos.groupby(['cpro','sexo','grupo_edad'],as_index=False).agg({\n",
    "    'codauto': np.min, 'provincia': np.min, 'num_casos': np.sum, 'num_def': np.sum})\n",
    "\n",
    "datos_poblacion_sexos = datos_poblacion_sexos.merge(poblacion_edad_sexo, \n",
    "                                                    on=['sexo','cpro','grupo_edad'], \n",
    "                                                    how=\"left\").merge(codigo_ccaa[['cpro','ccaa']],\n",
    "                                                                      on='cpro')\n",
    "datos_poblacion_sexos.head(4)"
   ]
  },
  {
   "cell_type": "code",
   "execution_count": null,
   "metadata": {},
   "outputs": [],
   "source": [
    "poblacion_edad_sexo.to_csv('datos/datos_periodo.csv', index=False)"
   ]
  }
 ],
 "metadata": {
  "kernelspec": {
   "display_name": "Python 3",
   "language": "python",
   "name": "python3"
  },
  "language_info": {
   "codemirror_mode": {
    "name": "ipython",
    "version": 3
   },
   "file_extension": ".py",
   "mimetype": "text/x-python",
   "name": "python",
   "nbconvert_exporter": "python",
   "pygments_lexer": "ipython3",
   "version": "3.8.5"
  }
 },
 "nbformat": 4,
 "nbformat_minor": 4
}
